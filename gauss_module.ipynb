{
 "cells": [
  {
   "cell_type": "code",
   "execution_count": 1,
   "metadata": {},
   "outputs": [],
   "source": [
    "# import packages: numpy, math (you might need pi for gaussian functions)\n",
    "import numpy as np\n",
    "import math\n",
    "import matplotlib.pyplot as plt\n",
    "from scipy.signal import convolve2d as conv2\n"
   ]
  },
  {
   "cell_type": "markdown",
   "metadata": {},
   "source": [
    "\"\"\"\n",
    "Gaussian function taking as argument the standard deviation sigma\n",
    "The filter should be defined for all integer values x in the range [-3sigma,3sigma]\n",
    "The function should return the Gaussian values Gx computed at the indexes x\n",
    "\"\"\""
   ]
  },
  {
   "cell_type": "code",
   "execution_count": 2,
   "metadata": {},
   "outputs": [],
   "source": [
    "def gauss(sigma):\n",
    "    \n",
    "    x = np.arange (-3*sigma, 3*sigma, 1)\n",
    "    Gx=(1/np.sqrt(2*np.pi*sigma**2)*np.exp(-(x**2)/(2*sigma**2)))\n",
    "    \n",
    "    return Gx, x"
   ]
  },
  {
   "cell_type": "markdown",
   "metadata": {},
   "source": [
    "\"\"\"\n",
    "Implement a 2D Gaussian filter, leveraging the previous gauss.\n",
    "Implement the filter from scratch or leverage the convolve2D method (scipy.signal)\n",
    "Leverage the separability of Gaussian filtering\n",
    "Input: image, sigma (standard deviation)\n",
    "Output: smoothed image\n",
    "\"\"\""
   ]
  },
  {
   "cell_type": "code",
   "execution_count": null,
   "metadata": {},
   "outputs": [],
   "source": [
    "def gaussianfilter(img, sigma):\n",
    "    \n",
    "    Gx, x = gauss(sigma)\n",
    "\n",
    "    horizontal_kernel = Gx.reshape((1, -1))\n",
    "    vertical_kernel = Gx.reshape((-1, 1))\n",
    "\n",
    "    horizontal_conv = conv2(img, horizontal_kernel, mode='same', boundary='fill')\n",
    "    vertical_conv = conv2(horizontal_conv, vertical_kernel, mode='same', boundary='fill')\n",
    "\n",
    "    smooth_img = vertical_conv\n",
    "    \n",
    "    return smooth_img"
   ]
  },
  {
   "cell_type": "markdown",
   "metadata": {},
   "source": [
    "\n",
    "\"\"\"\n",
    "Gaussian derivative function taking as argument the standard deviation sigma\n",
    "The filter should be defined for all integer values x in the range [-3sigma,3sigma]\n",
    "The function should return the Gaussian derivative values Dx computed at the indexes x\n",
    "\"\"\""
   ]
  },
  {
   "cell_type": "code",
   "execution_count": 3,
   "metadata": {},
   "outputs": [],
   "source": [
    "def gaussdx(sigma):\n",
    "    \n",
    "    x = np.arange(-3*sigma, 3*sigma, 1)\n",
    "    Dx = -1/(np.sqrt(2*np.pi)*sigma**3)*x*np.exp(-x**2/(2*sigma**2))\n",
    "    \n",
    "    return Dx, x\n"
   ]
  },
  {
   "cell_type": "code",
   "execution_count": 4,
   "metadata": {},
   "outputs": [],
   "source": [
    "def gaussderiv(img, sigma):\n",
    "    \n",
    "    dx, x = gaussdx(sigma)\n",
    "\n",
    "    horizontal_kernel = dx.reshape((1, -1))\n",
    "    vertical_kernel = dx.reshape((-1, 1))\n",
    "\n",
    "    img_Dx = conv2(img, horizontal_kernel, mode='same')\n",
    "    img_Dy = conv2(img, vertical_kernel, mode='same')\n",
    "\n",
    "    return img_Dx, img_Dy"
   ]
  }
 ],
 "metadata": {
  "kernelspec": {
   "display_name": "Python 3",
   "language": "python",
   "name": "python3"
  },
  "language_info": {
   "codemirror_mode": {
    "name": "ipython",
    "version": 3
   },
   "file_extension": ".py",
   "mimetype": "text/x-python",
   "name": "python",
   "nbconvert_exporter": "python",
   "pygments_lexer": "ipython3",
   "version": "3.7.3"
  }
 },
 "nbformat": 4,
 "nbformat_minor": 2
}
